{
  "nbformat": 4,
  "nbformat_minor": 0,
  "metadata": {
    "colab": {
      "provenance": [],
      "authorship_tag": "ABX9TyPx3XwaZjvuF9dZ2OxMinjr",
      "include_colab_link": true
    },
    "kernelspec": {
      "name": "python3",
      "display_name": "Python 3"
    },
    "language_info": {
      "name": "python"
    }
  },
  "cells": [
    {
      "cell_type": "markdown",
      "metadata": {
        "id": "view-in-github",
        "colab_type": "text"
      },
      "source": [
        "<a href=\"https://colab.research.google.com/github/restrepo/autocvlac/blob/main/autocvlac.ipynb\" target=\"_parent\"><img src=\"https://colab.research.google.com/assets/colab-badge.svg\" alt=\"Open In Colab\"/></a>"
      ]
    },
    {
      "cell_type": "code",
      "execution_count": 1,
      "metadata": {
        "id": "d2JjqdN31cMI"
      },
      "outputs": [],
      "source": [
        "import requests"
      ]
    },
    {
      "cell_type": "code",
      "source": [
        "id_cod_rh = '67dc9885444bab3c3f1a7df2'\n",
        "start_affiliation_year = 2002"
      ],
      "metadata": {
        "id": "HEZinVzw1nDM"
      },
      "execution_count": 36,
      "outputs": []
    },
    {
      "cell_type": "code",
      "source": [
        "import pandas as pd"
      ],
      "metadata": {
        "id": "P_jHd2gX2Rkc"
      },
      "execution_count": 3,
      "outputs": []
    },
    {
      "cell_type": "code",
      "source": [
        "j = requests.get(f'https://api.impactu.colav.co/person/{id_cod_rh}/research/products?max=200&page=1')"
      ],
      "metadata": {
        "id": "_-uuV3D62hzF"
      },
      "execution_count": 4,
      "outputs": []
    },
    {
      "cell_type": "code",
      "source": [
        "j.status_code"
      ],
      "metadata": {
        "colab": {
          "base_uri": "https://localhost:8080/"
        },
        "id": "PmmQSR6g2vT9",
        "outputId": "33ee078d-9295-4bf8-c8f7-77e0ae26ac5c"
      },
      "execution_count": 5,
      "outputs": [
        {
          "output_type": "execute_result",
          "data": {
            "text/plain": [
              "200"
            ]
          },
          "metadata": {},
          "execution_count": 5
        }
      ]
    },
    {
      "cell_type": "code",
      "source": [
        "L = j.json().get('data')"
      ],
      "metadata": {
        "id": "fkzJolUN2xv2"
      },
      "execution_count": 6,
      "outputs": []
    },
    {
      "cell_type": "code",
      "source": [
        "len(L)"
      ],
      "metadata": {
        "colab": {
          "base_uri": "https://localhost:8080/"
        },
        "id": "PxBFxyQY26P3",
        "outputId": "b3c6efa4-7524-4f25-a11e-d98aae7c1156"
      },
      "execution_count": 7,
      "outputs": [
        {
          "output_type": "execute_result",
          "data": {
            "text/plain": [
              "134"
            ]
          },
          "metadata": {},
          "execution_count": 7
        }
      ]
    },
    {
      "cell_type": "code",
      "source": [
        "LL = []\n",
        "for d in L:\n",
        "    if (not 'scienti' in [ dd.get('provenance') for dd in d.get(\"external_ids\") ] and\n",
        "        d.get(\"year_published\") and\n",
        "        d.get(\"year_published\") >= start_affiliation_year\n",
        "    ):\n",
        "        LL.append(d)"
      ],
      "metadata": {
        "id": "rze-pStw27Ne"
      },
      "execution_count": 43,
      "outputs": []
    },
    {
      "cell_type": "code",
      "source": [
        "df = pd.DataFrame(LL)"
      ],
      "metadata": {
        "id": "4JK8msWj7Rm3"
      },
      "execution_count": 46,
      "outputs": []
    },
    {
      "cell_type": "code",
      "source": [
        "df['title'] = df['titles'].str[0].str['title']"
      ],
      "metadata": {
        "id": "bnxRwnMj8AXB"
      },
      "execution_count": 53,
      "outputs": []
    },
    {
      "cell_type": "code",
      "source": [
        "df['type'] = df['types'].apply(lambda L: [d.get('type') for d in L if d.get('source') == 'impactu'][0])"
      ],
      "metadata": {
        "id": "WXHiR2cZ94vF"
      },
      "execution_count": 61,
      "outputs": []
    },
    {
      "cell_type": "code",
      "source": [
        "df['authors'].apply(lambda L: [  d.get(\"external_ids\")\n",
        "            for d in L]).iloc[0]"
      ],
      "metadata": {
        "colab": {
          "base_uri": "https://localhost:8080/"
        },
        "id": "oqI9Bp5sAKWs",
        "outputId": "2503db1a-e980-4e3e-890d-63acce34ad04"
      },
      "execution_count": 74,
      "outputs": [
        {
          "output_type": "execute_result",
          "data": {
            "text/plain": [
              "[[{'id': '0000536237', 'provenance': 'scienti', 'source': 'scienti'},\n",
              "  {'id': 'https://orcid.org/0000-0003-2350-4650',\n",
              "   'provenance': 'scienti',\n",
              "   'source': 'orcid'},\n",
              "  {'id': 'https://openalex.org/A5016617621',\n",
              "   'provenance': 'openalex',\n",
              "   'source': 'openalex'},\n",
              "  {'id': 'https://orcid.org/0000-0003-2350-4650',\n",
              "   'provenance': 'openalex',\n",
              "   'source': 'orcid'},\n",
              "  {'id': 'https://scholar.google.com/citations?user=HcAnZ0MAAAAJ',\n",
              "   'provenance': 'scholar',\n",
              "   'source': 'scholar'}],\n",
              " [{'id': '0000389307', 'provenance': 'scienti', 'source': 'scienti'},\n",
              "  {'id': 'https://orcid.org/0000-0002-0381-1269',\n",
              "   'provenance': 'scienti',\n",
              "   'source': 'orcid'},\n",
              "  {'id': 'https://www.scopus.com/authid/detail.uri?authorId=57218849476',\n",
              "   'provenance': 'minciencias',\n",
              "   'source': 'scopus'},\n",
              "  {'id': 'https://www.webofscience.com/wos/author/record/368371',\n",
              "   'provenance': 'minciencias',\n",
              "   'source': 'wos'},\n",
              "  {'id': 'https://openalex.org/A5059964208',\n",
              "   'provenance': 'openalex',\n",
              "   'source': 'openalex'},\n",
              "  {'id': 'https://orcid.org/0000-0002-0381-1269',\n",
              "   'provenance': 'openalex',\n",
              "   'source': 'orcid'},\n",
              "  {'id': 'https://www.scopus.com/authid/detail.uri?authorId=23037188100',\n",
              "   'provenance': 'openalex',\n",
              "   'source': 'scopus'},\n",
              "  {'id': 'https://scholar.google.com/citations?user=-2lv5cwAAAAJ',\n",
              "   'provenance': 'scholar',\n",
              "   'source': 'scholar'}],\n",
              " [{'id': 'https://openalex.org/A5080439902',\n",
              "   'provenance': 'openalex',\n",
              "   'source': 'openalex'}],\n",
              " [{'id': '0000177733', 'provenance': 'scienti', 'source': 'scienti'},\n",
              "  {'id': 'https://orcid.org/0000-0001-6455-5564',\n",
              "   'provenance': 'scienti',\n",
              "   'source': 'orcid'},\n",
              "  {'id': 'https://www.scopus.com/authid/detail.uri?authorId=7005721136',\n",
              "   'provenance': 'minciencias',\n",
              "   'source': 'scopus'},\n",
              "  {'id': 'https://openalex.org/A5049648126',\n",
              "   'provenance': 'openalex',\n",
              "   'source': 'openalex'},\n",
              "  {'id': 'https://orcid.org/0000-0001-6455-5564',\n",
              "   'provenance': 'openalex',\n",
              "   'source': 'orcid'},\n",
              "  {'id': 'https://www.scopus.com/authid/detail.uri?authorId=7005721136',\n",
              "   'provenance': 'openalex',\n",
              "   'source': 'scopus'},\n",
              "  {'id': 'https://scholar.google.com/citations?user=1sKULCoAAAAJ',\n",
              "   'provenance': 'scholar',\n",
              "   'source': 'scholar'}],\n",
              " [{'id': 'https://openalex.org/A5055080442',\n",
              "   'provenance': 'openalex',\n",
              "   'source': 'openalex'}],\n",
              " [{'id': 'https://openalex.org/A5101754120',\n",
              "   'provenance': 'openalex',\n",
              "   'source': 'openalex'},\n",
              "  {'id': 'https://orcid.org/0000-0002-2262-2690',\n",
              "   'provenance': 'openalex',\n",
              "   'source': 'orcid'},\n",
              "  {'id': 'https://scholar.google.com/citations?user=dwxwyqwAAAAJ',\n",
              "   'provenance': 'scholar',\n",
              "   'source': 'scholar'}],\n",
              " [{'id': 'https://openalex.org/A5014660743',\n",
              "   'provenance': 'openalex',\n",
              "   'source': 'openalex'}],\n",
              " [{'id': 'https://openalex.org/A5085135492',\n",
              "   'provenance': 'openalex',\n",
              "   'source': 'openalex'}],\n",
              " [{'id': 'https://openalex.org/A5108672891',\n",
              "   'provenance': 'openalex',\n",
              "   'source': 'openalex'}],\n",
              " None]"
            ]
          },
          "metadata": {},
          "execution_count": 74
        }
      ]
    },
    {
      "cell_type": "code",
      "source": [
        "df[['year_published','title','doi','type']]"
      ],
      "metadata": {
        "colab": {
          "base_uri": "https://localhost:8080/",
          "height": 708
        },
        "id": "rejRFLZp6B3F",
        "outputId": "03b53644-35cc-489c-e4e4-4eb47291ac93"
      },
      "execution_count": 62,
      "outputs": [
        {
          "output_type": "execute_result",
          "data": {
            "text/plain": [
              "    year_published                                              title  \\\n",
              "0             2017  Indicadores de vinculaciin con el entorno para...   \n",
              "1             2019  Métricas de Vinculación Universidad-Entorno: U...   \n",
              "2             2024  DUNE Phase II: Scientific Opportunities, Detec...   \n",
              "3             2020  Diseño de guías de laboratorio para un curso d...   \n",
              "4             2018    Bound-state dark matter with Majorana neutrinos   \n",
              "5             2019     Detailed lecture notes in Quantum Field Theory   \n",
              "6             2020                 El Lagrangiano del Modelo Estándar   \n",
              "7             2020                          Teoria Clásica de Campos.   \n",
              "8             2021  Set of N integers between -30 and 30 with sum ...   \n",
              "9             2021  Set of N integers between -30 and 30 with sum ...   \n",
              "10            2021  Set of N integers between -30 and 30 with sum ...   \n",
              "11            2023                Enriched OpenAlex Data for Colombia   \n",
              "12            2023  Enriched OpenAlex Data for Universidad de Anti...   \n",
              "13            2023                Enriched OpenAlex Data for Colombia   \n",
              "14            2023  Enriched OpenAlex Data for Universidad de Anti...   \n",
              "15            2009  DECAYING NEUTRALINO DARK MATTER IN ANOMALOUS U...   \n",
              "16            2010  PROBING NEUTRINO OSCILLATIONS IN SUPERSYMMETRI...   \n",
              "17            2012  LSP sneutrino decays into heavy standard model...   \n",
              "18            2017  Indicadores de vinculación con el entorno para...   \n",
              "19            2021  Anomaly-free Abelian gauge symmetries with Dir...   \n",
              "20            2024  First Measurement of the Total Inelastic Cross...   \n",
              "\n",
              "                                               doi                  type  \n",
              "0             https://doi.org/10.2139/ssrn.3136094              Artículo  \n",
              "1             https://doi.org/10.2139/ssrn.3481925              Artículo  \n",
              "2                  https://doi.org/10.2172/2466221  Documento de trabajo  \n",
              "3   https://doi.org/10.48082/espacios-a20v41n44p14              Artículo  \n",
              "4        https://doi.org/10.48550/arxiv.1806.09977              Preprint  \n",
              "5           https://doi.org/10.5281/zenodo.3470180                 Libro  \n",
              "6           https://doi.org/10.5281/zenodo.3960741                 Libro  \n",
              "7           https://doi.org/10.5281/zenodo.3841652                 Libro  \n",
              "8           https://doi.org/10.5281/zenodo.5526706               Dataset  \n",
              "9           https://doi.org/10.5281/zenodo.5526707               Dataset  \n",
              "10          https://doi.org/10.5281/zenodo.7380817               Dataset  \n",
              "11          https://doi.org/10.5281/zenodo.7843857               Dataset  \n",
              "12          https://doi.org/10.5281/zenodo.7789908               Dataset  \n",
              "13          https://doi.org/10.5281/zenodo.7843858               Dataset  \n",
              "14          https://doi.org/10.5281/zenodo.7789909               Dataset  \n",
              "15        https://doi.org/10.1103/phyrevd80.055010              Artículo  \n",
              "16      https://doi.org/10.1103/pysrevd.82.07.5002              Artículo  \n",
              "17                                             NaN              Preprint  \n",
              "18                                             NaN              Artículo  \n",
              "19                                             NaN              Preprint  \n",
              "20                                             NaN              Artículo  "
            ],
            "text/html": [
              "\n",
              "  <div id=\"df-58c0a4f6-cfec-481b-a115-adb6ce743c12\" class=\"colab-df-container\">\n",
              "    <div>\n",
              "<style scoped>\n",
              "    .dataframe tbody tr th:only-of-type {\n",
              "        vertical-align: middle;\n",
              "    }\n",
              "\n",
              "    .dataframe tbody tr th {\n",
              "        vertical-align: top;\n",
              "    }\n",
              "\n",
              "    .dataframe thead th {\n",
              "        text-align: right;\n",
              "    }\n",
              "</style>\n",
              "<table border=\"1\" class=\"dataframe\">\n",
              "  <thead>\n",
              "    <tr style=\"text-align: right;\">\n",
              "      <th></th>\n",
              "      <th>year_published</th>\n",
              "      <th>title</th>\n",
              "      <th>doi</th>\n",
              "      <th>type</th>\n",
              "    </tr>\n",
              "  </thead>\n",
              "  <tbody>\n",
              "    <tr>\n",
              "      <th>0</th>\n",
              "      <td>2017</td>\n",
              "      <td>Indicadores de vinculaciin con el entorno para...</td>\n",
              "      <td>https://doi.org/10.2139/ssrn.3136094</td>\n",
              "      <td>Artículo</td>\n",
              "    </tr>\n",
              "    <tr>\n",
              "      <th>1</th>\n",
              "      <td>2019</td>\n",
              "      <td>Métricas de Vinculación Universidad-Entorno: U...</td>\n",
              "      <td>https://doi.org/10.2139/ssrn.3481925</td>\n",
              "      <td>Artículo</td>\n",
              "    </tr>\n",
              "    <tr>\n",
              "      <th>2</th>\n",
              "      <td>2024</td>\n",
              "      <td>DUNE Phase II: Scientific Opportunities, Detec...</td>\n",
              "      <td>https://doi.org/10.2172/2466221</td>\n",
              "      <td>Documento de trabajo</td>\n",
              "    </tr>\n",
              "    <tr>\n",
              "      <th>3</th>\n",
              "      <td>2020</td>\n",
              "      <td>Diseño de guías de laboratorio para un curso d...</td>\n",
              "      <td>https://doi.org/10.48082/espacios-a20v41n44p14</td>\n",
              "      <td>Artículo</td>\n",
              "    </tr>\n",
              "    <tr>\n",
              "      <th>4</th>\n",
              "      <td>2018</td>\n",
              "      <td>Bound-state dark matter with Majorana neutrinos</td>\n",
              "      <td>https://doi.org/10.48550/arxiv.1806.09977</td>\n",
              "      <td>Preprint</td>\n",
              "    </tr>\n",
              "    <tr>\n",
              "      <th>5</th>\n",
              "      <td>2019</td>\n",
              "      <td>Detailed lecture notes in Quantum Field Theory</td>\n",
              "      <td>https://doi.org/10.5281/zenodo.3470180</td>\n",
              "      <td>Libro</td>\n",
              "    </tr>\n",
              "    <tr>\n",
              "      <th>6</th>\n",
              "      <td>2020</td>\n",
              "      <td>El Lagrangiano del Modelo Estándar</td>\n",
              "      <td>https://doi.org/10.5281/zenodo.3960741</td>\n",
              "      <td>Libro</td>\n",
              "    </tr>\n",
              "    <tr>\n",
              "      <th>7</th>\n",
              "      <td>2020</td>\n",
              "      <td>Teoria Clásica de Campos.</td>\n",
              "      <td>https://doi.org/10.5281/zenodo.3841652</td>\n",
              "      <td>Libro</td>\n",
              "    </tr>\n",
              "    <tr>\n",
              "      <th>8</th>\n",
              "      <td>2021</td>\n",
              "      <td>Set of N integers between -30 and 30 with sum ...</td>\n",
              "      <td>https://doi.org/10.5281/zenodo.5526706</td>\n",
              "      <td>Dataset</td>\n",
              "    </tr>\n",
              "    <tr>\n",
              "      <th>9</th>\n",
              "      <td>2021</td>\n",
              "      <td>Set of N integers between -30 and 30 with sum ...</td>\n",
              "      <td>https://doi.org/10.5281/zenodo.5526707</td>\n",
              "      <td>Dataset</td>\n",
              "    </tr>\n",
              "    <tr>\n",
              "      <th>10</th>\n",
              "      <td>2021</td>\n",
              "      <td>Set of N integers between -30 and 30 with sum ...</td>\n",
              "      <td>https://doi.org/10.5281/zenodo.7380817</td>\n",
              "      <td>Dataset</td>\n",
              "    </tr>\n",
              "    <tr>\n",
              "      <th>11</th>\n",
              "      <td>2023</td>\n",
              "      <td>Enriched OpenAlex Data for Colombia</td>\n",
              "      <td>https://doi.org/10.5281/zenodo.7843857</td>\n",
              "      <td>Dataset</td>\n",
              "    </tr>\n",
              "    <tr>\n",
              "      <th>12</th>\n",
              "      <td>2023</td>\n",
              "      <td>Enriched OpenAlex Data for Universidad de Anti...</td>\n",
              "      <td>https://doi.org/10.5281/zenodo.7789908</td>\n",
              "      <td>Dataset</td>\n",
              "    </tr>\n",
              "    <tr>\n",
              "      <th>13</th>\n",
              "      <td>2023</td>\n",
              "      <td>Enriched OpenAlex Data for Colombia</td>\n",
              "      <td>https://doi.org/10.5281/zenodo.7843858</td>\n",
              "      <td>Dataset</td>\n",
              "    </tr>\n",
              "    <tr>\n",
              "      <th>14</th>\n",
              "      <td>2023</td>\n",
              "      <td>Enriched OpenAlex Data for Universidad de Anti...</td>\n",
              "      <td>https://doi.org/10.5281/zenodo.7789909</td>\n",
              "      <td>Dataset</td>\n",
              "    </tr>\n",
              "    <tr>\n",
              "      <th>15</th>\n",
              "      <td>2009</td>\n",
              "      <td>DECAYING NEUTRALINO DARK MATTER IN ANOMALOUS U...</td>\n",
              "      <td>https://doi.org/10.1103/phyrevd80.055010</td>\n",
              "      <td>Artículo</td>\n",
              "    </tr>\n",
              "    <tr>\n",
              "      <th>16</th>\n",
              "      <td>2010</td>\n",
              "      <td>PROBING NEUTRINO OSCILLATIONS IN SUPERSYMMETRI...</td>\n",
              "      <td>https://doi.org/10.1103/pysrevd.82.07.5002</td>\n",
              "      <td>Artículo</td>\n",
              "    </tr>\n",
              "    <tr>\n",
              "      <th>17</th>\n",
              "      <td>2012</td>\n",
              "      <td>LSP sneutrino decays into heavy standard model...</td>\n",
              "      <td>NaN</td>\n",
              "      <td>Preprint</td>\n",
              "    </tr>\n",
              "    <tr>\n",
              "      <th>18</th>\n",
              "      <td>2017</td>\n",
              "      <td>Indicadores de vinculación con el entorno para...</td>\n",
              "      <td>NaN</td>\n",
              "      <td>Artículo</td>\n",
              "    </tr>\n",
              "    <tr>\n",
              "      <th>19</th>\n",
              "      <td>2021</td>\n",
              "      <td>Anomaly-free Abelian gauge symmetries with Dir...</td>\n",
              "      <td>NaN</td>\n",
              "      <td>Preprint</td>\n",
              "    </tr>\n",
              "    <tr>\n",
              "      <th>20</th>\n",
              "      <td>2024</td>\n",
              "      <td>First Measurement of the Total Inelastic Cross...</td>\n",
              "      <td>NaN</td>\n",
              "      <td>Artículo</td>\n",
              "    </tr>\n",
              "  </tbody>\n",
              "</table>\n",
              "</div>\n",
              "    <div class=\"colab-df-buttons\">\n",
              "\n",
              "  <div class=\"colab-df-container\">\n",
              "    <button class=\"colab-df-convert\" onclick=\"convertToInteractive('df-58c0a4f6-cfec-481b-a115-adb6ce743c12')\"\n",
              "            title=\"Convert this dataframe to an interactive table.\"\n",
              "            style=\"display:none;\">\n",
              "\n",
              "  <svg xmlns=\"http://www.w3.org/2000/svg\" height=\"24px\" viewBox=\"0 -960 960 960\">\n",
              "    <path d=\"M120-120v-720h720v720H120Zm60-500h600v-160H180v160Zm220 220h160v-160H400v160Zm0 220h160v-160H400v160ZM180-400h160v-160H180v160Zm440 0h160v-160H620v160ZM180-180h160v-160H180v160Zm440 0h160v-160H620v160Z\"/>\n",
              "  </svg>\n",
              "    </button>\n",
              "\n",
              "  <style>\n",
              "    .colab-df-container {\n",
              "      display:flex;\n",
              "      gap: 12px;\n",
              "    }\n",
              "\n",
              "    .colab-df-convert {\n",
              "      background-color: #E8F0FE;\n",
              "      border: none;\n",
              "      border-radius: 50%;\n",
              "      cursor: pointer;\n",
              "      display: none;\n",
              "      fill: #1967D2;\n",
              "      height: 32px;\n",
              "      padding: 0 0 0 0;\n",
              "      width: 32px;\n",
              "    }\n",
              "\n",
              "    .colab-df-convert:hover {\n",
              "      background-color: #E2EBFA;\n",
              "      box-shadow: 0px 1px 2px rgba(60, 64, 67, 0.3), 0px 1px 3px 1px rgba(60, 64, 67, 0.15);\n",
              "      fill: #174EA6;\n",
              "    }\n",
              "\n",
              "    .colab-df-buttons div {\n",
              "      margin-bottom: 4px;\n",
              "    }\n",
              "\n",
              "    [theme=dark] .colab-df-convert {\n",
              "      background-color: #3B4455;\n",
              "      fill: #D2E3FC;\n",
              "    }\n",
              "\n",
              "    [theme=dark] .colab-df-convert:hover {\n",
              "      background-color: #434B5C;\n",
              "      box-shadow: 0px 1px 3px 1px rgba(0, 0, 0, 0.15);\n",
              "      filter: drop-shadow(0px 1px 2px rgba(0, 0, 0, 0.3));\n",
              "      fill: #FFFFFF;\n",
              "    }\n",
              "  </style>\n",
              "\n",
              "    <script>\n",
              "      const buttonEl =\n",
              "        document.querySelector('#df-58c0a4f6-cfec-481b-a115-adb6ce743c12 button.colab-df-convert');\n",
              "      buttonEl.style.display =\n",
              "        google.colab.kernel.accessAllowed ? 'block' : 'none';\n",
              "\n",
              "      async function convertToInteractive(key) {\n",
              "        const element = document.querySelector('#df-58c0a4f6-cfec-481b-a115-adb6ce743c12');\n",
              "        const dataTable =\n",
              "          await google.colab.kernel.invokeFunction('convertToInteractive',\n",
              "                                                    [key], {});\n",
              "        if (!dataTable) return;\n",
              "\n",
              "        const docLinkHtml = 'Like what you see? Visit the ' +\n",
              "          '<a target=\"_blank\" href=https://colab.research.google.com/notebooks/data_table.ipynb>data table notebook</a>'\n",
              "          + ' to learn more about interactive tables.';\n",
              "        element.innerHTML = '';\n",
              "        dataTable['output_type'] = 'display_data';\n",
              "        await google.colab.output.renderOutput(dataTable, element);\n",
              "        const docLink = document.createElement('div');\n",
              "        docLink.innerHTML = docLinkHtml;\n",
              "        element.appendChild(docLink);\n",
              "      }\n",
              "    </script>\n",
              "  </div>\n",
              "\n",
              "\n",
              "<div id=\"df-8bea54b4-2cb7-4e09-81c2-31ccaf9f2103\">\n",
              "  <button class=\"colab-df-quickchart\" onclick=\"quickchart('df-8bea54b4-2cb7-4e09-81c2-31ccaf9f2103')\"\n",
              "            title=\"Suggest charts\"\n",
              "            style=\"display:none;\">\n",
              "\n",
              "<svg xmlns=\"http://www.w3.org/2000/svg\" height=\"24px\"viewBox=\"0 0 24 24\"\n",
              "     width=\"24px\">\n",
              "    <g>\n",
              "        <path d=\"M19 3H5c-1.1 0-2 .9-2 2v14c0 1.1.9 2 2 2h14c1.1 0 2-.9 2-2V5c0-1.1-.9-2-2-2zM9 17H7v-7h2v7zm4 0h-2V7h2v10zm4 0h-2v-4h2v4z\"/>\n",
              "    </g>\n",
              "</svg>\n",
              "  </button>\n",
              "\n",
              "<style>\n",
              "  .colab-df-quickchart {\n",
              "      --bg-color: #E8F0FE;\n",
              "      --fill-color: #1967D2;\n",
              "      --hover-bg-color: #E2EBFA;\n",
              "      --hover-fill-color: #174EA6;\n",
              "      --disabled-fill-color: #AAA;\n",
              "      --disabled-bg-color: #DDD;\n",
              "  }\n",
              "\n",
              "  [theme=dark] .colab-df-quickchart {\n",
              "      --bg-color: #3B4455;\n",
              "      --fill-color: #D2E3FC;\n",
              "      --hover-bg-color: #434B5C;\n",
              "      --hover-fill-color: #FFFFFF;\n",
              "      --disabled-bg-color: #3B4455;\n",
              "      --disabled-fill-color: #666;\n",
              "  }\n",
              "\n",
              "  .colab-df-quickchart {\n",
              "    background-color: var(--bg-color);\n",
              "    border: none;\n",
              "    border-radius: 50%;\n",
              "    cursor: pointer;\n",
              "    display: none;\n",
              "    fill: var(--fill-color);\n",
              "    height: 32px;\n",
              "    padding: 0;\n",
              "    width: 32px;\n",
              "  }\n",
              "\n",
              "  .colab-df-quickchart:hover {\n",
              "    background-color: var(--hover-bg-color);\n",
              "    box-shadow: 0 1px 2px rgba(60, 64, 67, 0.3), 0 1px 3px 1px rgba(60, 64, 67, 0.15);\n",
              "    fill: var(--button-hover-fill-color);\n",
              "  }\n",
              "\n",
              "  .colab-df-quickchart-complete:disabled,\n",
              "  .colab-df-quickchart-complete:disabled:hover {\n",
              "    background-color: var(--disabled-bg-color);\n",
              "    fill: var(--disabled-fill-color);\n",
              "    box-shadow: none;\n",
              "  }\n",
              "\n",
              "  .colab-df-spinner {\n",
              "    border: 2px solid var(--fill-color);\n",
              "    border-color: transparent;\n",
              "    border-bottom-color: var(--fill-color);\n",
              "    animation:\n",
              "      spin 1s steps(1) infinite;\n",
              "  }\n",
              "\n",
              "  @keyframes spin {\n",
              "    0% {\n",
              "      border-color: transparent;\n",
              "      border-bottom-color: var(--fill-color);\n",
              "      border-left-color: var(--fill-color);\n",
              "    }\n",
              "    20% {\n",
              "      border-color: transparent;\n",
              "      border-left-color: var(--fill-color);\n",
              "      border-top-color: var(--fill-color);\n",
              "    }\n",
              "    30% {\n",
              "      border-color: transparent;\n",
              "      border-left-color: var(--fill-color);\n",
              "      border-top-color: var(--fill-color);\n",
              "      border-right-color: var(--fill-color);\n",
              "    }\n",
              "    40% {\n",
              "      border-color: transparent;\n",
              "      border-right-color: var(--fill-color);\n",
              "      border-top-color: var(--fill-color);\n",
              "    }\n",
              "    60% {\n",
              "      border-color: transparent;\n",
              "      border-right-color: var(--fill-color);\n",
              "    }\n",
              "    80% {\n",
              "      border-color: transparent;\n",
              "      border-right-color: var(--fill-color);\n",
              "      border-bottom-color: var(--fill-color);\n",
              "    }\n",
              "    90% {\n",
              "      border-color: transparent;\n",
              "      border-bottom-color: var(--fill-color);\n",
              "    }\n",
              "  }\n",
              "</style>\n",
              "\n",
              "  <script>\n",
              "    async function quickchart(key) {\n",
              "      const quickchartButtonEl =\n",
              "        document.querySelector('#' + key + ' button');\n",
              "      quickchartButtonEl.disabled = true;  // To prevent multiple clicks.\n",
              "      quickchartButtonEl.classList.add('colab-df-spinner');\n",
              "      try {\n",
              "        const charts = await google.colab.kernel.invokeFunction(\n",
              "            'suggestCharts', [key], {});\n",
              "      } catch (error) {\n",
              "        console.error('Error during call to suggestCharts:', error);\n",
              "      }\n",
              "      quickchartButtonEl.classList.remove('colab-df-spinner');\n",
              "      quickchartButtonEl.classList.add('colab-df-quickchart-complete');\n",
              "    }\n",
              "    (() => {\n",
              "      let quickchartButtonEl =\n",
              "        document.querySelector('#df-8bea54b4-2cb7-4e09-81c2-31ccaf9f2103 button');\n",
              "      quickchartButtonEl.style.display =\n",
              "        google.colab.kernel.accessAllowed ? 'block' : 'none';\n",
              "    })();\n",
              "  </script>\n",
              "</div>\n",
              "\n",
              "    </div>\n",
              "  </div>\n"
            ],
            "application/vnd.google.colaboratory.intrinsic+json": {
              "type": "dataframe",
              "summary": "{\n  \"name\": \"df[['year_published','title','doi','type']]\",\n  \"rows\": 21,\n  \"fields\": [\n    {\n      \"column\": \"year_published\",\n      \"properties\": {\n        \"dtype\": \"number\",\n        \"std\": 4,\n        \"min\": 2009,\n        \"max\": 2024,\n        \"num_unique_values\": 10,\n        \"samples\": [\n          2010,\n          2019,\n          2021\n        ],\n        \"semantic_type\": \"\",\n        \"description\": \"\"\n      }\n    },\n    {\n      \"column\": \"title\",\n      \"properties\": {\n        \"dtype\": \"string\",\n        \"num_unique_values\": 17,\n        \"samples\": [\n          \"Indicadores de vinculaciin con el entorno para Unidades de Gestiin de Investigaciin. (Universidad de Antioquia SIU. Estudio Piloto 2004-2016) (Vinculation Indicator with the Context for Research Management Units. (University of Antioquia - SIU, Pilot Study 2004-2016))\",\n          \"M\\u00e9tricas de Vinculaci\\u00f3n Universidad-Entorno: Universidad de Antioquia (Metrics for University Linkage with the Environment: Universidad De Antioquia)\",\n          \"Detailed lecture notes in Quantum Field Theory\"\n        ],\n        \"semantic_type\": \"\",\n        \"description\": \"\"\n      }\n    },\n    {\n      \"column\": \"doi\",\n      \"properties\": {\n        \"dtype\": \"string\",\n        \"num_unique_values\": 17,\n        \"samples\": [\n          \"https://doi.org/10.2139/ssrn.3136094\",\n          \"https://doi.org/10.2139/ssrn.3481925\",\n          \"https://doi.org/10.5281/zenodo.3470180\"\n        ],\n        \"semantic_type\": \"\",\n        \"description\": \"\"\n      }\n    },\n    {\n      \"column\": \"type\",\n      \"properties\": {\n        \"dtype\": \"category\",\n        \"num_unique_values\": 5,\n        \"samples\": [\n          \"Documento de trabajo\",\n          \"Dataset\",\n          \"Preprint\"\n        ],\n        \"semantic_type\": \"\",\n        \"description\": \"\"\n      }\n    }\n  ]\n}"
            }
          },
          "metadata": {},
          "execution_count": 62
        }
      ]
    },
    {
      "cell_type": "code",
      "source": [
        "d = L[0]\n",
        "type(d.get(\"year_published\")) >= 2"
      ],
      "metadata": {
        "colab": {
          "base_uri": "https://localhost:8080/"
        },
        "id": "RLBeE5ld2-U9",
        "outputId": "4071dc10-59a2-4a4b-f68b-1866a61955fe"
      },
      "execution_count": 25,
      "outputs": [
        {
          "output_type": "execute_result",
          "data": {
            "text/plain": [
              "int"
            ]
          },
          "metadata": {},
          "execution_count": 25
        }
      ]
    },
    {
      "cell_type": "code",
      "source": [],
      "metadata": {
        "id": "pH1kbiiY4Tl5"
      },
      "execution_count": null,
      "outputs": []
    }
  ]
}