{
 "cells": [
  {
   "cell_type": "code",
   "execution_count": 7,
   "id": "12b522e0-9794-4ca5-ba60-214dbffa395e",
   "metadata": {},
   "outputs": [],
   "source": [
    "from autofillcvlac import *"
   ]
  },
  {
   "cell_type": "markdown",
   "id": "335a61cc-b0a3-44b8-8284-86b17dff13ce",
   "metadata": {},
   "source": [
    "Get products"
   ]
  },
  {
   "cell_type": "code",
   "execution_count": 2,
   "id": "8ead19ea-41fe-4341-a6fc-cf9a54172bd4",
   "metadata": {},
   "outputs": [],
   "source": [
    "import autofillcvlac"
   ]
  },
  {
   "cell_type": "code",
   "execution_count": 3,
   "id": "e0a0200f-e889-4eb8-b418-5f5a04590105",
   "metadata": {},
   "outputs": [],
   "source": [
    "import requests"
   ]
  },
  {
   "cell_type": "code",
   "execution_count": 4,
   "id": "eb88173c-4954-43c2-80ba-25c17bf918ce",
   "metadata": {},
   "outputs": [],
   "source": [
    "products = autofillcvlac.core.get_research_products('0000177733')"
   ]
  },
  {
   "cell_type": "code",
   "execution_count": 5,
   "id": "2e486b16-c659-4333-8718-b51b6aef9a3d",
   "metadata": {},
   "outputs": [
    {
     "data": {
      "text/plain": [
       "153"
      ]
     },
     "execution_count": 5,
     "metadata": {},
     "output_type": "execute_result"
    }
   ],
   "source": [
    "len(products)"
   ]
  },
  {
   "cell_type": "code",
   "execution_count": 6,
   "id": "9598f473-ddca-4e5a-a242-a7ef6c8b6754",
   "metadata": {},
   "outputs": [],
   "source": [
    "from IPython.display import JSON"
   ]
  },
  {
   "cell_type": "code",
   "execution_count": 7,
   "id": "073f8feb-d305-4c59-b8a8-88e9a0c3a140",
   "metadata": {},
   "outputs": [
    {
     "data": {
      "application/json": {
       "abstracts": [
        {
         "abstract": {
          "$U(1)_H$": [
           42
          ],
          "Dirac": [
           79
          ],
          "In": [
           24
          ],
          "Majorana": [
           81
          ],
          "R-parity": [
           3,
           22,
           34
          ],
          "Supersymmetric": [
           0
          ],
          "The": [
           89
          ],
          "With": [
           72
          ],
          "a": [
           30,
           45,
           55,
           68
          ],
          "accommodated": [
           85
          ],
          "achieved": [
           52
          ],
          "along": [
           53
          ],
          "an": [
           39
          ],
          "and": [
           36,
           80
          ],
          "anomalous": [
           40
          ],
          "are": [
           5,
           94
          ],
          "baryon-number": [
           49
          ],
          "be": [
           84
          ],
          "becoming": [
           6
          ],
          "both": [
           78
          ],
          "by": [
           38
          ],
          "can": [
           83
          ],
          "collider": [
           92
          ],
          "conservation": [
           4
          ],
          "consider": [
           29
          ],
          "constrained": [
           8
          ],
          "decay": [
           70
          ],
          "dimension-5": [
           62
          ],
          "discussed.": [
           95
          ],
          "due": [
           9
          ],
          "energy": [
           15
          ],
          "extended": [
           37
          ],
          "for": [
           58,
           91
          ],
          "framework": [
           47
          ],
          "horizontal": [
           41
          ],
          "implications": [
           90
          ],
          "in": [
           64
          ],
          "introduction": [
           74
          ],
          "is": [
           51
          ],
          "keep": [
           67
          ],
          "lack": [
           12
          ],
          "lepton": [
           59
          ],
          "masses": [
           82
          ],
          "missing": [
           14
          ],
          "model": [
           32
          ],
          "model.": [
           88
          ],
          "motivating": [
           18
          ],
          "neutrinos": [
           77
          ],
          "number": [
           60
          ],
          "of": [
           13,
           26,
           75
          ],
          "operators": [
           63
          ],
          "order": [
           65
          ],
          "physics": [
           93
          ],
          "proper": [
           56
          ],
          "proton": [
           69
          ],
          "right-handed": [
           76
          ],
          "safe.": [
           71
          ],
          "scenarios": [
           1,
           20
          ],
          "self-consistent": [
           46
          ],
          "signals,": [
           16
          ],
          "supersymmetric": [
           31
          ],
          "supression": [
           57
          ],
          "symmetry,": [
           43
          ],
          "the": [
           11,
           73
          ],
          "this": [
           87
          ],
          "this,": [
           27
          ],
          "those": [
           19
          ],
          "thus": [
           17
          ],
          "to": [
           10,
           66
          ],
          "very": [
           7
          ],
          "view": [
           25
          ],
          "violating": [
           61
          ],
          "violation": [
           35,
           50
          ],
          "violation.": [
           23
          ],
          "we": [
           28
          ],
          "where": [
           44
          ],
          "with": [
           2,
           21,
           33,
           48,
           54
          ],
          "within": [
           86
          ]
         },
         "lang": "en",
         "provenance": "openalex",
         "source": "openalex"
        },
        {
         "abstract": {
          "A": [
           49
          ],
          "ABSTRACT:": [
           0
          ],
          "Dirac": [
           82
          ],
          "In": [
           29
          ],
          "Majorana": [
           84
          ],
          "R-parity": [
           4,
           27,
           39
          ],
          "Supersymmetric": [
           1
          ],
          "The": [
           92
          ],
          "U(1)H": [
           47
          ],
          "With": [
           75
          ],
          "a": [
           35,
           59
          ],
          "accommodated": [
           88
          ],
          "achieved": [
           56
          ],
          "along": [
           57
          ],
          "an": [
           44
          ],
          "and": [
           41,
           83
          ],
          "anomalous": [
           45
          ],
          "are": [
           6,
           97
          ],
          "associated": [
           18
          ],
          "baryon-number": [
           53
          ],
          "be": [
           72,
           87
          ],
          "becoming": [
           7
          ],
          "both": [
           81
          ],
          "by": [
           43
          ],
          "can": [
           71,
           86
          ],
          "collider": [
           95
          ],
          "conservation": [
           5
          ],
          "consider": [
           34
          ],
          "constrained": [
           9
          ],
          "dimension-five": [
           65
          ],
          "discussed.": [
           98
          ],
          "due": [
           10
          ],
          "energy": [
           16
          ],
          "extended": [
           42
          ],
          "for": [
           62,
           94
          ],
          "framework": [
           51
          ],
          "heavy": [
           20
          ],
          "horizontal": [
           46
          ],
          "implications": [
           93
          ],
          "introduction": [
           77
          ],
          "is": [
           55
          ],
          "lack": [
           13
          ],
          "lepton-number": [
           63
          ],
          "masses": [
           85
          ],
          "missing": [
           15
          ],
          "model": [
           37
          ],
          "model.": [
           91
          ],
          "motivating": [
           24
          ],
          "neutral": [
           21
          ],
          "neutrinos,": [
           80
          ],
          "of": [
           14,
           31,
           78
          ],
          "operators,": [
           66
          ],
          "particles,": [
           22
          ],
          "physics": [
           96
          ],
          "proper": [
           60
          ],
          "proton": [
           70
          ],
          "right-handed": [
           79
          ],
          "scenarios": [
           2,
           25
          ],
          "self-consistent": [
           50
          ],
          "signals": [
           17
          ],
          "so": [
           67
          ],
          "stable.": [
           74
          ],
          "sufficiently": [
           73
          ],
          "supersymmetric": [
           36
          ],
          "suppression": [
           61
          ],
          "symmetry.": [
           48
          ],
          "that": [
           68
          ],
          "the": [
           12,
           69,
           76
          ],
          "this": [
           90
          ],
          "this,": [
           32
          ],
          "thus": [
           23
          ],
          "to": [
           11,
           19
          ],
          "very": [
           8
          ],
          "view": [
           30
          ],
          "violating": [
           64
          ],
          "violation": [
           40,
           54
          ],
          "violation.": [
           28
          ],
          "we": [
           33
          ],
          "with": [
           3,
           26,
           38,
           52,
           58
          ],
          "within": [
           89
          ]
         },
         "lang": "en",
         "provenance": "space",
         "source": "dspace"
        }
       ],
       "apc": {
        "paid": {}
       },
       "authors": [
        {
         "affiliations": [
          {
           "end_date": 1374987600,
           "geo": {
            "city": "Medellín",
            "country": "Colombia",
            "country_code": "CO",
            "latitude": 6.267417,
            "longitude": -75.568389
           },
           "id": "03bp5hc83",
           "name": "Universidad de Antioquia",
           "ror": "https://ror.org/03bp5hc83",
           "start_date": 1343883600,
           "types": [
            {
             "source": "ror",
             "type": "Education"
            },
            {
             "source": "openalex",
             "type": "funder"
            }
           ]
          },
          {
           "end_date": 1374987600,
           "geo": {},
           "id": "03bp5hc83_25_3414",
           "name": "Departamento de Ingeniería Sanitaria y Ambiental",
           "start_date": 1343883600,
           "types": [
            {
             "source": "staff",
             "type": "department"
            }
           ]
          },
          {
           "end_date": 1374987600,
           "geo": {},
           "id": "03bp5hc83_25",
           "name": "Facultad de Ingeniería",
           "start_date": 1343883600,
           "types": [
            {
             "source": "staff",
             "type": "faculty"
            }
           ]
          }
         ],
         "age": 43,
         "birth_country": "Colombia",
         "countries": [
          "Colombia"
         ],
         "external_ids": [
          {
           "id": "0000001949",
           "provenance": "scienti",
           "source": "scienti"
          },
          {
           "id": "https://openalex.org/A5068649203",
           "provenance": "openalex",
           "source": "openalex"
          }
         ],
         "first_names": [
          "Carlos",
          "Andres"
         ],
         "full_name": "Carlos Andres Florez Acosta",
         "id": "0000001949",
         "last_names": [
          "Florez",
          "Acosta"
         ],
         "ranking": [
          {
           "date": 1343883600,
           "rank": "OCASIONAL",
           "source": "tipo_contrato"
          },
          {
           "date": 1343883600,
           "rank": "tiempo completo",
           "source": "jornada_laboral"
          },
          {
           "date": 1343883600,
           "rank": "AUXILIAR",
           "source": "categoría_laboral"
          },
          {
           "date": 1389223084,
           "rank": "ED",
           "source": "scienti"
          }
         ],
         "sex": "Hombre",
         "type": "author"
        },
        {
         "affiliations": [
          {
           "end_date": -1,
           "geo": {
            "city": "Medellín",
            "country": "Colombia",
            "country_code": "CO",
            "latitude": 6.267417,
            "longitude": -75.568389
           },
           "id": "03bp5hc83",
           "name": "Universidad de Antioquia",
           "ror": "https://ror.org/03bp5hc83",
           "start_date": 1027573200,
           "types": [
            {
             "source": "ror",
             "type": "Education"
            },
            {
             "source": "openalex",
             "type": "funder"
            }
           ]
          },
          {
           "end_date": -1,
           "geo": {},
           "id": "03bp5hc83_3_21420002_3512",
           "name": "Instituto de Física",
           "start_date": 1027573200,
           "types": [
            {
             "source": "staff",
             "type": "department"
            }
           ]
          },
          {
           "end_date": -1,
           "geo": {},
           "id": "03bp5hc83_3",
           "name": "Facultad de Ciencias Exactas y Naturales",
           "start_date": 1027573200,
           "types": [
            {
             "source": "staff",
             "type": "faculty"
            }
           ]
          },
          {
           "end_date": -1,
           "geo": {
            "city": "Medellín",
            "country": "Colombia",
            "country_code": "CO",
            "latitude": 6.267417,
            "longitude": -75.568389
           },
           "id": "COL0008423",
           "name": "Grupo de Fenomenologia de Interacciones Fundamentales",
           "start_date": 978325200,
           "types": [
            {
             "source": "scienti",
             "type": "group"
            }
           ]
          }
         ],
         "age": 54,
         "birth_country": "Colombia",
         "countries": [
          "Colombia"
         ],
         "external_ids": [
          {
           "id": "0000177733",
           "provenance": "scienti",
           "source": "scienti"
          },
          {
           "id": "https://orcid.org/0000-0001-6455-5564",
           "provenance": "scienti",
           "source": "orcid"
          },
          {
           "id": "https://www.scopus.com/authid/detail.uri?authorId=7005721136",
           "provenance": "minciencias",
           "source": "scopus"
          },
          {
           "id": "https://openalex.org/A5049648126",
           "provenance": "openalex",
           "source": "openalex"
          },
          {
           "id": "https://orcid.org/0000-0001-6455-5564",
           "provenance": "openalex",
           "source": "orcid"
          },
          {
           "id": "https://www.scopus.com/authid/detail.uri?authorId=7005721136",
           "provenance": "openalex",
           "source": "scopus"
          },
          {
           "id": "https://scholar.google.com/citations?user=1sKULCoAAAAJ",
           "provenance": "scholar",
           "source": "scholar"
          }
         ],
         "first_names": [
          "Diego",
          "Alejandro"
         ],
         "full_name": "Diego Alejandro Restrepo Quintero",
         "id": "0000177733",
         "last_names": [
          "Restrepo",
          "Quintero"
         ],
         "ranking": [
          {
           "date": 1027573200,
           "rank": "VINCULADO",
           "source": "tipo_contrato"
          },
          {
           "date": 1027573200,
           "rank": "tiempo completo",
           "source": "jornada_laboral"
          },
          {
           "date": 1027573200,
           "rank": "ASOCIADO",
           "source": "categoría_laboral"
          },
          {
           "date": 1027573200,
           "rank": "TITULAR",
           "source": "categoría_laboral"
          },
          {
           "date": 1027573200,
           "rank": "ASISTENTE",
           "source": "categoría_laboral"
          },
          {
           "date": 1224044257,
           "rank": "IS",
           "source": "scienti"
          },
          {
           "date": 1383195600,
           "order": "14",
           "rank": "Investigador Sénior",
           "source": "minciencias"
          },
          {
           "date": 1413349200,
           "order": "14",
           "rank": "Investigador Sénior",
           "source": "minciencias"
          },
          {
           "date": 1444885200,
           "order": "14",
           "rank": "Investigador Sénior",
           "source": "minciencias"
          },
          {
           "date": 1494565200,
           "order": "14",
           "rank": "Investigador Sénior",
           "source": "minciencias"
          },
          {
           "date": 1575608400,
           "order": "14",
           "rank": "Investigador Sénior",
           "source": "minciencias"
          },
          {
           "date": 1614229200,
           "order": "14",
           "rank": "Investigador Sénior",
           "source": "minciencias"
          }
         ],
         "sex": "Hombre",
         "type": "author"
        },
        {
         "affiliations": [],
         "countries": [],
         "full_name": "Mauricio de Jesus Velasquez Lopez",
         "id": "",
         "type": "author"
        },
        {
         "affiliations": [
          {
           "end_date": -1,
           "geo": {
            "city": "Medellín",
            "country": "Colombia",
            "country_code": "CO",
            "latitude": 6.267417,
            "longitude": -75.568389
           },
           "id": "03bp5hc83",
           "name": "Universidad de Antioquia",
           "ror": "https://ror.org/03bp5hc83",
           "start_date": 1327467600,
           "types": [
            {
             "source": "ror",
             "type": "Education"
            },
            {
             "source": "openalex",
             "type": "funder"
            }
           ]
          },
          {
           "end_date": -1,
           "geo": {},
           "id": "03bp5hc83_3_21420002_3512",
           "name": "Instituto de Física",
           "start_date": 1327467600,
           "types": [
            {
             "source": "staff",
             "type": "department"
            }
           ]
          },
          {
           "end_date": -1,
           "geo": {},
           "id": "03bp5hc83_3",
           "name": "Facultad de Ciencias Exactas y Naturales",
           "start_date": 1327467600,
           "types": [
            {
             "source": "staff",
             "type": "faculty"
            }
           ]
          },
          {
           "end_date": -1,
           "geo": {
            "city": "Medellín",
            "country": "Colombia",
            "country_code": "CO",
            "latitude": 6.267417,
            "longitude": -75.568389
           },
           "id": "COL0008423",
           "name": "Grupo de Fenomenologia de Interacciones Fundamentales",
           "start_date": 1388552400,
           "types": [
            {
             "source": "scienti",
             "type": "group"
            }
           ]
          },
          {
           "end_date": "",
           "geo": {},
           "id": "COL0044189",
           "name": "EIA Física Teórica y Aplicada",
           "start_date": 1325394000,
           "types": [
            {
             "source": "minciencias",
             "type": "group"
            }
           ]
          },
          {
           "end_date": "",
           "geo": {},
           "id": "04wwz3282",
           "name": "Universidad EIA",
           "start_date": 1325394000,
           "types": [
            {
             "source": "ror",
             "type": "Education"
            },
            {
             "source": "openalex",
             "type": "education"
            }
           ]
          }
         ],
         "age": 45,
         "birth_country": "Colombia",
         "countries": [
          "Colombia"
         ],
         "external_ids": [
          {
           "id": "0000707619",
           "provenance": "scienti",
           "source": "scienti"
          },
          {
           "id": "https://orcid.org/0000-0001-5533-4014",
           "provenance": "scienti",
           "source": "orcid"
          },
          {
           "id": "https://openalex.org/A5080491905",
           "provenance": "openalex",
           "source": "openalex"
          },
          {
           "id": "https://orcid.org/0000-0001-5533-4014",
           "provenance": "openalex",
           "source": "orcid"
          },
          {
           "id": "https://scholar.google.com/citations?user=0SEOpKoAAAAJ",
           "provenance": "scholar",
           "source": "scholar"
          }
         ],
         "first_names": [
          "Oscar",
          "Alberto"
         ],
         "full_name": "Oscar Alberto Zapata Noreña",
         "id": "0000707619",
         "last_names": [
          "Zapata",
          "Noreña"
         ],
         "ranking": [
          {
           "date": 1327467600,
           "rank": "VINCULADO",
           "source": "tipo_contrato"
          },
          {
           "date": 1327467600,
           "rank": "tiempo completo",
           "source": "jornada_laboral"
          },
          {
           "date": 1327467600,
           "rank": "ASISTENTE",
           "source": "categoría_laboral"
          },
          {
           "date": 1327467600,
           "rank": "ASPIRANTEANTE",
           "source": "tipo_contrato"
          },
          {
           "date": 1327467600,
           "rank": "ASOCIADO",
           "source": "categoría_laboral"
          },
          {
           "date": 1327467600,
           "rank": "TITULAR",
           "source": "categoría_laboral"
          },
          {
           "date": 1453407794,
           "rank": "IS",
           "source": "scienti"
          }
         ],
         "sex": "Hombre",
         "type": "author"
        }
       ],
       "authors_count": 4,
       "bibliographic_info": {
        "bibtex": "@article{florez2013baryonic,\n  title={Baryonic violation of R parity from anomalous U (1) H},\n  author={Florez, Andres and Restrepo, Diego and Velasquez, Mauricio and Zapata, Oscar},\n  journal={Physical Review D},\n  volume={87},\n  number={9},\n  pages={095010},\n  year={2013},\n  publisher={APS}\n}\n",
        "issue": "9",
        "start_page": "095010",
        "volume": "87"
       },
       "citations": [],
       "citations_by_year": [
        {
         "cited_by_count": 2,
         "year": 2016
        },
        {
         "cited_by_count": 9,
         "year": 2014
        },
        {
         "cited_by_count": 3,
         "year": 2013
        }
       ],
       "citations_count": [
        {
         "count": 14,
         "source": "openalex"
        },
        {
         "count": 17,
         "provenance": "scholar",
         "source": "scholar"
        }
       ],
       "date_published": 1368680400,
       "doi": "https://doi.org/10.1103/physrevd.87.095010",
       "external_ids": [
        {
         "id": "https://openalex.org/W1967455469",
         "provenance": "openalex",
         "source": "openalex"
        },
        {
         "id": "https://doi.org/10.1103/physrevd.87.095010",
         "provenance": "openalex",
         "source": "doi"
        },
        {
         "id": 1967455469,
         "provenance": "openalex",
         "source": "mag"
        },
        {
         "id": "arXiv:1303.0278",
         "provenance": "openalex",
         "source": "arxiv_id"
        },
        {
         "id": "0000001949-1",
         "provenance": "scienti",
         "source": "scienti"
        },
        {
         "id": "https://doi.org/10.1103/physrevd.87.095010",
         "provenance": "scienti",
         "source": "doi"
        },
        {
         "id": "0000177733-9",
         "provenance": "scienti",
         "source": "scienti"
        },
        {
         "id": "0000707619-13",
         "provenance": "scienti",
         "source": "scienti"
        },
        {
         "id": "4184-15386534-1750447215",
         "provenance": "ciarp",
         "source": "ciarp"
        },
        {
         "id": "5258-98554575-1750447215",
         "provenance": "ciarp",
         "source": "ciarp"
        },
        {
         "id": "JqMDydwmsxcJ",
         "provenance": "scholar",
         "source": "scholar"
        },
        {
         "id": "ART-0000177733-9",
         "provenance": "minciencias",
         "source": "minciencias"
        },
        {
         "id": "0000177733-9",
         "provenance": "minciencias",
         "source": "scienti"
        },
        {
         "id": "http://hdl.handle.net/10495/8378",
         "provenance": "dspace",
         "source": "uri"
        },
        {
         "id": "https://doi.org/10.1103/physrevd.87.095010",
         "provenance": "dspace",
         "source": "doi"
        },
        {
         "id": "oai:bibliotecadigital.udea.edu.co:10495/8378",
         "provenance": "dspace",
         "source": "dspace"
        },
        {
         "id": "https://bibliotecadigital.udea.edu.co/handle/10495/8378",
         "provenance": "dspace",
         "source": "dspace"
        },
        {
         "id": "https://bibliotecadigital.udea.edu.co/oai/request?verb=GetRecord&metadataPrefix=dim&identifier=oai:bibliotecadigital.udea.edu.co:10495/8378",
         "provenance": "dspace",
         "source": "oaipmh"
        }
       ],
       "external_urls": [
        {
         "provenance": "openalex",
         "source": "open_access",
         "url": "http://arxiv.org/pdf/1303.0278"
        },
        {
         "provenance": "scienti",
         "source": "scienti",
         "url": "http://prd.aps.org/"
        },
        {
         "provenance": "scholar",
         "source": "scholar citations",
         "url": "/scholar?cites=1707751413410669350&as_sdt=2005&sciodt=0,5&hl=en"
        },
        {
         "provenance": "scholar",
         "source": "pdf",
         "url": "https://arxiv.org/pdf/1303.0278"
        }
       ],
       "groups": [
        {
         "id": "COL0008423",
         "name": "Grupo de Fenomenologia de Interacciones Fundamentales"
        }
       ],
       "id": "68558ea8ca86b6b32ebb5500",
       "keywords": [],
       "open_access": {
        "has_repository_fulltext": true,
        "is_open_access": true,
        "open_access_status": "green",
        "url": "http://arxiv.org/pdf/1303.0278"
       },
       "ranking": [
        {
         "date": 1383195600,
         "rank": "ART-ART_A1",
         "source": "minciencias"
        },
        {
         "date": 1383195600,
         "level": 0,
         "rank": "Nuevo conocimiento Top",
         "source": "minciencias"
        },
        {
         "date": 1383195600,
         "level": 1,
         "rank": "Artículos de investigación Con Calidad A1",
         "source": "minciencias"
        }
       ],
       "references": [],
       "source": {
        "external_ids": {
         "issn": "1550-2368",
         "openalex": "https://openalex.org/S4210210554",
         "scienti": 81200
        },
        "id": "6850c8e7c2459d408de803a9",
        "is_in_doaj": false,
        "name": "Physical review. D. Particles, fields, gravitation, and cosmology/Physical review. D, Particles, fields, gravitation, and cosmology",
        "scimago_quartile": "",
        "types": [
         {
          "source": "scienti",
          "type": "EL"
         },
         {
          "source": "scienti",
          "type": "EL"
         },
         {
          "source": "openalex",
          "type": "journal"
         }
        ]
       },
       "subjects": [
        {
         "source": "openalex",
         "subjects": [
          {
           "id": "6850ca16c2459d408deb5e9c",
           "level": 1,
           "name": "Particle physics"
          },
          {
           "id": "6850ca17c2459d408deb645f",
           "level": 2,
           "name": "Neutrino"
          },
          {
           "id": "6850ca15c2459d408deb5ad1",
           "level": 0,
           "name": "Physics"
          },
          {
           "id": "6850ca23c2459d408deba66e",
           "level": 4,
           "name": "Lepton number"
          },
          {
           "id": "6850ca18c2459d408deb6db4",
           "level": 2,
           "name": "Parity (physics)"
          },
          {
           "id": "6850ca1bc2459d408deb7de1",
           "level": 3,
           "name": "MAJORANA"
          },
          {
           "id": "6850ca17c2459d408deb65f1",
           "level": 2,
           "name": "Supersymmetry"
          },
          {
           "id": "6850ca37c2459d408debecc3",
           "level": 3,
           "name": "R-parity"
          },
          {
           "id": "6850ca18c2459d408deb6db5",
           "level": 2,
           "name": "Baryon"
          },
          {
           "id": "6850ca17c2459d408deb6b3f",
           "level": 3,
           "name": "Lepton"
          },
          {
           "id": "6850ca15c2459d408deb5c9d",
           "level": 1,
           "name": "Nuclear physics"
          },
          {
           "id": "6850ca15c2459d408deb5cf7",
           "level": 2,
           "name": "Electron"
          }
         ]
        }
       ],
       "titles": [
        {
         "source": "openalex",
         "title": "Baryonic violation of R parity from anomalous U (1)H"
        },
        {
         "lang": "en",
         "source": "scienti",
         "title": "Baryonic violation of R parity from anomalous U(1)H"
        },
        {
         "lang": "en",
         "provenance": "ciarp",
         "source": "ciarp",
         "title": "BARYONIC VIOLATION OF R PARITY FROM ANOMALOUS U (1) H"
        },
        {
         "lang": "en",
         "source": "scholar",
         "title": "Baryonic violation of R parity from anomalous U (1) H"
        },
        {
         "lang": "en",
         "source": "minciencias",
         "title": "Baryonic violation of R parity from anomalous U(1)_H"
        },
        {
         "lang": "en",
         "source": "dspace",
         "title": "Baryonic violation of R parity from anomalous U(1)H"
        }
       ],
       "types": [
        {
         "provenance": "openalex",
         "source": "openalex",
         "type": "article"
        },
        {
         "provenance": "openalex",
         "source": "crossref",
         "type": "journal-article"
        },
        {
         "code": "111",
         "level": 2,
         "provenance": "scienti",
         "source": "scienti",
         "type": "Publicado en revista especializada"
        },
        {
         "code": "11",
         "level": 1,
         "provenance": "scienti",
         "source": "scienti",
         "type": "Artículo"
        },
        {
         "code": "1",
         "level": 0,
         "provenance": "scienti",
         "source": "scienti",
         "type": "Producción bibliográfica"
        },
        {
         "provenance": "scholar",
         "source": "scholar",
         "type": "article"
        },
        {
         "level": 1,
         "provenance": "minciencias",
         "source": "minciencias",
         "type": "Artículos de investigación"
        },
        {
         "level": 0,
         "provenance": "minciencias",
         "source": "minciencias",
         "type": "Nuevo conocimiento"
        },
        {
         "provenance": "dspace",
         "source": "eu-repo",
         "type": "submittedversion"
        },
        {
         "provenance": "dspace",
         "source": "eu-repo",
         "type": "article"
        },
        {
         "provenance": "dspace",
         "source": "coar",
         "type": "c_2df8fbb1"
        },
        {
         "provenance": "dspace",
         "source": "redcol",
         "type": "art"
        },
        {
         "provenance": "dspace",
         "source": "dspace",
         "type": "artículo de investigación"
        },
        {
         "provenance": "minciencias",
         "source": "impactu",
         "type": "Artículo de revista"
        }
       ],
       "updated": [
        {
         "source": "openalex",
         "time": 1750437544
        },
        {
         "source": "scienti",
         "time": 1750445952
        },
        {
         "source": "scienti",
         "time": 1750445952
        },
        {
         "source": "scienti",
         "time": 1750445953
        },
        {
         "source": "ciarp",
         "time": 1750447223
        },
        {
         "source": "ciarp",
         "time": 1750447224
        },
        {
         "source": "scholar",
         "time": 1750450665
        },
        {
         "source": "scienti",
         "time": 1750454038
        },
        {
         "source": "scienti",
         "time": 1750455333
        },
        {
         "source": "scienti",
         "time": 1750456012
        },
        {
         "source": "minciencias",
         "time": 1750471959
        },
        {
         "source": "dspace",
         "time": 1750555626
        }
       ],
       "year_published": 2013
      },
      "text/plain": [
       "<IPython.core.display.JSON object>"
      ]
     },
     "execution_count": 7,
     "metadata": {
      "application/json": {
       "expanded": false,
       "root": "root"
      }
     },
     "output_type": "execute_result"
    }
   ],
   "source": [
    "JSON(products[3])"
   ]
  },
  {
   "cell_type": "code",
   "execution_count": 8,
   "id": "f6cc0253-f981-47c2-8e6d-5d52c17e3c6c",
   "metadata": {},
   "outputs": [],
   "source": [
    "filtered = filter_missing_journal_articles(products)"
   ]
  },
  {
   "cell_type": "code",
   "execution_count": 9,
   "id": "c2617f60-23f2-4476-a2c4-709696f9d1fe",
   "metadata": {},
   "outputs": [
    {
     "data": {
      "text/plain": [
       "2"
      ]
     },
     "execution_count": 9,
     "metadata": {},
     "output_type": "execute_result"
    }
   ],
   "source": [
    "len(filtered)"
   ]
  },
  {
   "cell_type": "code",
   "execution_count": 10,
   "id": "9ba92997-3e93-4c88-b14c-e2405347da5c",
   "metadata": {},
   "outputs": [
    {
     "data": {
      "text/plain": [
       "{'title': 'Effective interactions for the SM fermion mass hierarchy and their possible UV realization.',\n",
       " 'article_type': '111',\n",
       " 'initial_page': None,\n",
       " 'final_page': None,\n",
       " 'language': 'Inglés',\n",
       " 'year': 2024,\n",
       " 'month': 'Noviembre',\n",
       " 'journal_name': 'Progress of Theoretical and Experimental Physics',\n",
       " 'journal_issn': '2050-3911',\n",
       " 'volume': '2024',\n",
       " 'issue': '11',\n",
       " 'series': None,\n",
       " 'publication_medium': 'Electrónico',\n",
       " 'website_url': 'https://doi.org/10.1093/ptep/ptae162',\n",
       " 'doi': '10.1093/ptep/ptae162'}"
      ]
     },
     "execution_count": 10,
     "metadata": {},
     "output_type": "execute_result"
    }
   ],
   "source": [
    "extracted = extract_scientific_article_data(filtered[1])\n",
    "extracted"
   ]
  },
  {
   "cell_type": "code",
   "execution_count": 12,
   "id": "6b363665-a1ac-41fe-81d6-8154a357a213",
   "metadata": {},
   "outputs": [],
   "source": [
    "import pandas as pd"
   ]
  },
  {
   "cell_type": "code",
   "execution_count": 13,
   "id": "d0224e2c-8676-499b-9f0a-1e4b31657357",
   "metadata": {},
   "outputs": [
    {
     "data": {
      "text/html": [
       "<div>\n",
       "<style scoped>\n",
       "    .dataframe tbody tr th:only-of-type {\n",
       "        vertical-align: middle;\n",
       "    }\n",
       "\n",
       "    .dataframe tbody tr th {\n",
       "        vertical-align: top;\n",
       "    }\n",
       "\n",
       "    .dataframe thead th {\n",
       "        text-align: right;\n",
       "    }\n",
       "</style>\n",
       "<table border=\"1\" class=\"dataframe\">\n",
       "  <thead>\n",
       "    <tr style=\"text-align: right;\">\n",
       "      <th></th>\n",
       "      <th>title</th>\n",
       "      <th>journal</th>\n",
       "      <th>year</th>\n",
       "      <th>issn</th>\n",
       "    </tr>\n",
       "  </thead>\n",
       "  <tbody>\n",
       "    <tr>\n",
       "      <th>0</th>\n",
       "      <td>First measurement of the total inelastic cross...</td>\n",
       "      <td>Physical review. D/Physical review. D.</td>\n",
       "      <td>2024</td>\n",
       "      <td>2470-0029</td>\n",
       "    </tr>\n",
       "    <tr>\n",
       "      <th>1</th>\n",
       "      <td>Effective interactions for the SM fermion mass...</td>\n",
       "      <td>Progress of Theoretical and Experimental Physics</td>\n",
       "      <td>2024</td>\n",
       "      <td>2050-3911</td>\n",
       "    </tr>\n",
       "  </tbody>\n",
       "</table>\n",
       "</div>"
      ],
      "text/plain": [
       "                                               title  \\\n",
       "0  First measurement of the total inelastic cross...   \n",
       "1  Effective interactions for the SM fermion mass...   \n",
       "\n",
       "                                            journal  year       issn  \n",
       "0            Physical review. D/Physical review. D.  2024  2470-0029  \n",
       "1  Progress of Theoretical and Experimental Physics  2024  2050-3911  "
      ]
     },
     "execution_count": 13,
     "metadata": {},
     "output_type": "execute_result"
    }
   ],
   "source": [
    "df = pd.DataFrame(filtered)\n",
    "df['title'] = df['titles'].str[0].str['title']\n",
    "df['issn'] = df['source'].str['external_ids'].apply(lambda d: d.get('issn') if d.get('issn') else d.get('eissn')  )\n",
    "df['journal'] = df.source.str['name']\n",
    "\n",
    "df['year'] = df.year_published.astype(int)\n",
    "\n",
    "df[['title','journal','year','issn']]"
   ]
  },
  {
   "cell_type": "code",
   "execution_count": 14,
   "id": "8e828a0f-2581-46b9-a7af-f44edb1f7b00",
   "metadata": {},
   "outputs": [],
   "source": [
    "from helium import kill_browser"
   ]
  },
  {
   "cell_type": "code",
   "execution_count": 34,
   "id": "afb08afc-2edb-42c2-9ca3-bdce2e865424",
   "metadata": {},
   "outputs": [],
   "source": [
    "kill_browser()"
   ]
  },
  {
   "cell_type": "code",
   "execution_count": 2,
   "id": "d6807a7f-5084-4311-a392-846ecffc5944",
   "metadata": {},
   "outputs": [],
   "source": [
    "import getpass"
   ]
  },
  {
   "cell_type": "code",
   "execution_count": 9,
   "id": "8ee97eec-feac-44e7-8ecc-8129811f9ccb",
   "metadata": {},
   "outputs": [],
   "source": [
    "documento_identificacion = getpass.getpass('documento_identificacion')\n",
    "password = getpass.getpass('password')"
   ]
  },
  {
   "cell_type": "code",
   "execution_count": null,
   "id": "503ff833-4ccd-41ef-9718-321ef4471bac",
   "metadata": {},
   "outputs": [],
   "source": [
    "AUTH = True\n",
    "if AUTH:\n",
    "    authenticate_cvlac(nacionalidad = 'Colombiana', nombres = 'Diego Restrepo', \n",
    "                       documento_identificacion = documento_identificacion, \n",
    "                       password = password,  \n",
    "                       headless=False)\n",
    "else:\n",
    "    authenticate_cvlac(nacionalidad = 'Extranjero - otra', nombres = 'Diego Restrepo', \n",
    "                       documento_identificacion = '666', password = '666',  \n",
    "                  pais_nacimiento=\"Colombia\", fecha_nacimiento='1971-03-10', headless=False)\n",
    "\n",
    "fill_scientific_article(**extracted)"
   ]
  },
  {
   "cell_type": "code",
   "execution_count": 17,
   "id": "8d491a66-1785-4120-8fc4-5f4de9b86c31",
   "metadata": {},
   "outputs": [],
   "source": [
    "import requests\n",
    "import pandas as pd\n",
    "#NEW\n",
    "from datetime import datetime\n",
    "from selenium.webdriver.common.by import By\n",
    "\n",
    "from helium import start_chrome, go_to, write, click, kill_browser, Text, TextField, Button, S, select, wait_until, get_driver #NEW"
   ]
  },
  {
   "cell_type": "code",
   "execution_count": null,
   "id": "9cd1106c-1a07-4114-aed0-831fc90a32a8",
   "metadata": {},
   "outputs": [],
   "source": []
  }
 ],
 "metadata": {
  "kernelspec": {
   "display_name": "Python 3 (ipykernel)",
   "language": "python",
   "name": "python3"
  },
  "language_info": {
   "codemirror_mode": {
    "name": "ipython",
    "version": 3
   },
   "file_extension": ".py",
   "mimetype": "text/x-python",
   "name": "python",
   "nbconvert_exporter": "python",
   "pygments_lexer": "ipython3",
   "version": "3.11.2"
  }
 },
 "nbformat": 4,
 "nbformat_minor": 5
}
