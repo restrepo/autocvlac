{
 "cells": [
  {
   "cell_type": "code",
   "execution_count": 23,
   "id": "613409ac-fdee-405d-a15d-fe98477026c0",
   "metadata": {},
   "outputs": [],
   "source": [
    "!pip install autofillcvlac -U --break-system-package > /dev/null"
   ]
  },
  {
   "cell_type": "code",
   "execution_count": 1,
   "id": "12b522e0-9794-4ca5-ba60-214dbffa395e",
   "metadata": {},
   "outputs": [],
   "source": [
    "from autofillcvlac import *\n",
    "import time"
   ]
  },
  {
   "cell_type": "markdown",
   "id": "335a61cc-b0a3-44b8-8284-86b17dff13ce",
   "metadata": {},
   "source": [
    "Get products"
   ]
  },
  {
   "cell_type": "code",
   "execution_count": 2,
   "id": "8ead19ea-41fe-4341-a6fc-cf9a54172bd4",
   "metadata": {},
   "outputs": [],
   "source": [
    "from autofillcvlac.core import get_research_products"
   ]
  },
  {
   "cell_type": "code",
   "execution_count": 3,
   "id": "eb88173c-4954-43c2-80ba-25c17bf918ce",
   "metadata": {},
   "outputs": [],
   "source": [
    "cod_rh = '0000177733'\n",
    "products = get_research_products(cod_rh)"
   ]
  },
  {
   "cell_type": "code",
   "execution_count": 4,
   "id": "2e486b16-c659-4333-8718-b51b6aef9a3d",
   "metadata": {},
   "outputs": [
    {
     "data": {
      "text/plain": [
       "153"
      ]
     },
     "execution_count": 4,
     "metadata": {},
     "output_type": "execute_result"
    }
   ],
   "source": [
    "len(products)"
   ]
  },
  {
   "cell_type": "markdown",
   "id": "1a125aa1-9b75-4548-b523-837e70e49fb0",
   "metadata": {},
   "source": [
    "Get journal articles not in CvLAC"
   ]
  },
  {
   "cell_type": "code",
   "execution_count": 5,
   "id": "f6cc0253-f981-47c2-8e6d-5d52c17e3c6c",
   "metadata": {},
   "outputs": [],
   "source": [
    "filtered = filter_missing_journal_articles(products)"
   ]
  },
  {
   "cell_type": "code",
   "execution_count": 6,
   "id": "c2617f60-23f2-4476-a2c4-709696f9d1fe",
   "metadata": {},
   "outputs": [
    {
     "data": {
      "text/plain": [
       "2"
      ]
     },
     "execution_count": 6,
     "metadata": {},
     "output_type": "execute_result"
    }
   ],
   "source": [
    "len(filtered)"
   ]
  },
  {
   "cell_type": "markdown",
   "id": "cd55a5f0-fdf4-4909-9fa8-01c808febb0b",
   "metadata": {},
   "source": [
    "Extract the relevant metadata"
   ]
  },
  {
   "cell_type": "code",
   "execution_count": 7,
   "id": "9ba92997-3e93-4c88-b14c-e2405347da5c",
   "metadata": {},
   "outputs": [],
   "source": [
    "extracted = extract_scientific_article_data(filtered[1])"
   ]
  },
  {
   "cell_type": "markdown",
   "id": "33f261bd-cfa3-4fb4-9bc6-186a31a08c49",
   "metadata": {},
   "source": [
    "Open CvLAC with helium!"
   ]
  },
  {
   "cell_type": "code",
   "execution_count": 8,
   "id": "d6807a7f-5084-4311-a392-846ecffc5944",
   "metadata": {},
   "outputs": [],
   "source": [
    "import getpass"
   ]
  },
  {
   "cell_type": "code",
   "execution_count": 9,
   "id": "8ee97eec-feac-44e7-8ecc-8129811f9ccb",
   "metadata": {},
   "outputs": [],
   "source": [
    "documento_identificacion = getpass.getpass('documento_identificacion')\n",
    "password = getpass.getpass('password')"
   ]
  },
  {
   "cell_type": "code",
   "execution_count": 18,
   "id": "503ff833-4ccd-41ef-9718-321ef4471bac",
   "metadata": {},
   "outputs": [
    {
     "data": {
      "text/plain": [
       "{'status': 'success',\n",
       " 'message': \"Scientific article form filled successfully. Note: Journal selection may require manual search using the 'Buscar' button.\",\n",
       " 'session_active': True}"
      ]
     },
     "execution_count": 18,
     "metadata": {},
     "output_type": "execute_result"
    }
   ],
   "source": [
    "authenticate_cvlac(nacionalidad = 'Colombiana', nombres = 'Diego Restrepo', \n",
    "                       documento_identificacion = documento_identificacion, \n",
    "                       password = password, browser=\"firefox\", \n",
    "                       headless=True)\n",
    "time.sleep(2)\n",
    "fill_scientific_article(**extracted)"
   ]
  },
  {
   "cell_type": "code",
   "execution_count": 19,
   "id": "c974e421-fb9a-47b3-8d12-03d41719c336",
   "metadata": {},
   "outputs": [],
   "source": [
    "from helium import get_driver, Text"
   ]
  },
  {
   "cell_type": "code",
   "execution_count": 25,
   "id": "2d49bd3f-02a4-4a6d-8761-9ca602b2d646",
   "metadata": {},
   "outputs": [
    {
     "data": {
      "text/plain": [
       "True"
      ]
     },
     "execution_count": 25,
     "metadata": {},
     "output_type": "execute_result"
    }
   ],
   "source": [
    "wait_until(Text('Buscar').exists)"
   ]
  },
  {
   "cell_type": "code",
   "execution_count": 22,
   "id": "f27d13b0-c02d-4f94-846c-c96ae3d74476",
   "metadata": {},
   "outputs": [],
   "source": [
    "driver = get_driver()"
   ]
  },
  {
   "cell_type": "code",
   "execution_count": 29,
   "id": "edf96d07-a68d-49f0-a094-ce26e4d4d1b7",
   "metadata": {},
   "outputs": [
    {
     "data": {
      "text/plain": [
       "True"
      ]
     },
     "execution_count": 29,
     "metadata": {},
     "output_type": "execute_result"
    }
   ],
   "source": [
    "driver.get_screenshot_as_file('result.png')"
   ]
  },
  {
   "cell_type": "markdown",
   "id": "4ad87e25-59aa-463f-bca5-523339e48646",
   "metadata": {},
   "source": [
    "![IMG](./result.png)"
   ]
  },
  {
   "cell_type": "markdown",
   "id": "f17a10c2-714e-424e-9fed-18f7a3595c32",
   "metadata": {},
   "source": [
    "DEBUG starts here"
   ]
  },
  {
   "cell_type": "code",
   "execution_count": 8,
   "id": "6b363665-a1ac-41fe-81d6-8154a357a213",
   "metadata": {},
   "outputs": [],
   "source": [
    "import pandas as pd"
   ]
  },
  {
   "cell_type": "code",
   "execution_count": 9,
   "id": "d0224e2c-8676-499b-9f0a-1e4b31657357",
   "metadata": {},
   "outputs": [
    {
     "data": {
      "text/html": [
       "<div>\n",
       "<style scoped>\n",
       "    .dataframe tbody tr th:only-of-type {\n",
       "        vertical-align: middle;\n",
       "    }\n",
       "\n",
       "    .dataframe tbody tr th {\n",
       "        vertical-align: top;\n",
       "    }\n",
       "\n",
       "    .dataframe thead th {\n",
       "        text-align: right;\n",
       "    }\n",
       "</style>\n",
       "<table border=\"1\" class=\"dataframe\">\n",
       "  <thead>\n",
       "    <tr style=\"text-align: right;\">\n",
       "      <th></th>\n",
       "      <th>title</th>\n",
       "      <th>journal</th>\n",
       "      <th>year</th>\n",
       "      <th>issn</th>\n",
       "    </tr>\n",
       "  </thead>\n",
       "  <tbody>\n",
       "    <tr>\n",
       "      <th>0</th>\n",
       "      <td>First measurement of the total inelastic cross...</td>\n",
       "      <td>Physical review. D/Physical review. D.</td>\n",
       "      <td>2024</td>\n",
       "      <td>2470-0029</td>\n",
       "    </tr>\n",
       "    <tr>\n",
       "      <th>1</th>\n",
       "      <td>Effective interactions for the SM fermion mass...</td>\n",
       "      <td>Progress of Theoretical and Experimental Physics</td>\n",
       "      <td>2024</td>\n",
       "      <td>2050-3911</td>\n",
       "    </tr>\n",
       "  </tbody>\n",
       "</table>\n",
       "</div>"
      ],
      "text/plain": [
       "                                               title  \\\n",
       "0  First measurement of the total inelastic cross...   \n",
       "1  Effective interactions for the SM fermion mass...   \n",
       "\n",
       "                                            journal  year       issn  \n",
       "0            Physical review. D/Physical review. D.  2024  2470-0029  \n",
       "1  Progress of Theoretical and Experimental Physics  2024  2050-3911  "
      ]
     },
     "execution_count": 9,
     "metadata": {},
     "output_type": "execute_result"
    }
   ],
   "source": [
    "df = pd.DataFrame(filtered)\n",
    "df['title'] = df['titles'].str[0].str['title']\n",
    "df['issn'] = df['source'].str['external_ids'].apply(lambda d: d.get('issn') if d.get('issn') else d.get('eissn')  )\n",
    "df['journal'] = df.source.str['name']\n",
    "\n",
    "df['year'] = df.year_published.astype(int)\n",
    "\n",
    "df[['title','journal','year','issn']]"
   ]
  },
  {
   "cell_type": "code",
   "execution_count": 14,
   "id": "8d491a66-1785-4120-8fc4-5f4de9b86c31",
   "metadata": {},
   "outputs": [],
   "source": [
    "import requests\n",
    "import pandas as pd\n",
    "from selenium.webdriver.common.by import By\n",
    "\n",
    "from helium import start_chrome, go_to, write, click, kill_browser, Text, TextField, Button, S, select, wait_until, get_driver #NEW"
   ]
  },
  {
   "cell_type": "markdown",
   "id": "7de91983-6097-476b-ad84-77f916e35ca9",
   "metadata": {},
   "source": [
    "alternate login for 'Extranjero - otra'"
   ]
  },
  {
   "cell_type": "code",
   "execution_count": null,
   "id": "977485c9-5379-40d4-882a-50be06dc298b",
   "metadata": {},
   "outputs": [],
   "source": [
    "authenticate_cvlac(nacionalidad = 'Extranjero - otra', nombres = 'Diego Restrepo', \n",
    "                       documento_identificacion = '666', password = '666',  \n",
    "                  pais_nacimiento=\"Colombia\", fecha_nacimiento='1971-03-10', headless=False)\n"
   ]
  },
  {
   "cell_type": "code",
   "execution_count": 17,
   "id": "e04c57e1-8797-4b03-84ba-fb2e5efcf1f5",
   "metadata": {},
   "outputs": [],
   "source": [
    "kill_browser()"
   ]
  }
 ],
 "metadata": {
  "kernelspec": {
   "display_name": "Python 3 (ipykernel)",
   "language": "python",
   "name": "python3"
  },
  "language_info": {
   "codemirror_mode": {
    "name": "ipython",
    "version": 3
   },
   "file_extension": ".py",
   "mimetype": "text/x-python",
   "name": "python",
   "nbconvert_exporter": "python",
   "pygments_lexer": "ipython3",
   "version": "3.11.2"
  }
 },
 "nbformat": 4,
 "nbformat_minor": 5
}
